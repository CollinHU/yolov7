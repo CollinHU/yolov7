{
 "cells": [
  {
   "cell_type": "code",
   "execution_count": 2,
   "metadata": {},
   "outputs": [],
   "source": [
    "import torch"
   ]
  },
  {
   "cell_type": "code",
   "execution_count": 3,
   "metadata": {},
   "outputs": [],
   "source": [
    "import os\n",
    "from pathlib import Path\n",
    "import glob\n",
    "img_formats = ['bmp', 'jpg', 'jpeg', 'png', 'tif', 'tiff', 'dng', 'webp', 'mpo'] "
   ]
  },
  {
   "cell_type": "code",
   "execution_count": 4,
   "metadata": {},
   "outputs": [],
   "source": [
    "path = \"../DATA/clockNumData_Yolo7/train.txt\""
   ]
  },
  {
   "cell_type": "code",
   "execution_count": 5,
   "metadata": {},
   "outputs": [
    {
     "ename": "Exception",
     "evalue": "Error loading data from ../DATA/clockNumData_Yolo7/train.txt: No images found\nSee",
     "output_type": "error",
     "traceback": [
      "\u001b[0;31m---------------------------------------------------------------------------\u001b[0m",
      "\u001b[0;31mAssertionError\u001b[0m                            Traceback (most recent call last)",
      "Cell \u001b[0;32mIn[5], line 18\u001b[0m\n\u001b[1;32m     17\u001b[0m     \u001b[39m# self.img_files = sorted([x for x in f if x.suffix[1:].lower() in img_formats])  # pathlib\u001b[39;00m\n\u001b[0;32m---> 18\u001b[0m     \u001b[39massert\u001b[39;00m img_files, \u001b[39mf\u001b[39m\u001b[39m'\u001b[39m\u001b[39mNo images found\u001b[39m\u001b[39m'\u001b[39m\n\u001b[1;32m     19\u001b[0m \u001b[39mexcept\u001b[39;00m \u001b[39mException\u001b[39;00m \u001b[39mas\u001b[39;00m e:\n",
      "\u001b[0;31mAssertionError\u001b[0m: No images found",
      "\nDuring handling of the above exception, another exception occurred:\n",
      "\u001b[0;31mException\u001b[0m                                 Traceback (most recent call last)",
      "Cell \u001b[0;32mIn[5], line 20\u001b[0m\n\u001b[1;32m     18\u001b[0m     \u001b[39massert\u001b[39;00m img_files, \u001b[39mf\u001b[39m\u001b[39m'\u001b[39m\u001b[39mNo images found\u001b[39m\u001b[39m'\u001b[39m\n\u001b[1;32m     19\u001b[0m \u001b[39mexcept\u001b[39;00m \u001b[39mException\u001b[39;00m \u001b[39mas\u001b[39;00m e:\n\u001b[0;32m---> 20\u001b[0m     \u001b[39mraise\u001b[39;00m \u001b[39mException\u001b[39;00m(\u001b[39mf\u001b[39m\u001b[39m'\u001b[39m\u001b[39mError loading data from \u001b[39m\u001b[39m{\u001b[39;00mpath\u001b[39m}\u001b[39;00m\u001b[39m: \u001b[39m\u001b[39m{\u001b[39;00me\u001b[39m}\u001b[39;00m\u001b[39m\\n\u001b[39;00m\u001b[39mSee\u001b[39m\u001b[39m'\u001b[39m)\n",
      "\u001b[0;31mException\u001b[0m: Error loading data from ../DATA/clockNumData_Yolo7/train.txt: No images found\nSee"
     ]
    }
   ],
   "source": [
    "try:\n",
    "    f = []  # image files\n",
    "    for p in path if isinstance(path, list) else [path]:\n",
    "        p = Path(p)  # os-agnostic\n",
    "        if p.is_dir():  # dir\n",
    "            f += glob.glob(str(p / '**' / '*.*'), recursive=True)\n",
    "            # f = list(p.rglob('**/*.*'))  # pathlib\n",
    "        elif p.is_file():  # file\n",
    "            with open(p, 'r') as t:\n",
    "                t = t.read().strip().splitlines()\n",
    "                parent = str(p.parent) + os.sep\n",
    "                f += [x.replace('./', parent) if x.startswith('./') else x for x in t]  # local to global path\n",
    "                # f += [p.parent / x.lstrip(os.sep) for x in t]  # local to global path (pathlib)\n",
    "        else:\n",
    "            raise Exception(f'{p} does not exist')\n",
    "    img_files = sorted([x.replace('/', os.sep) for x in f if x.split('.')[-1].lower() in img_formats])\n",
    "    # self.img_files = sorted([x for x in f if x.suffix[1:].lower() in img_formats])  # pathlib\n",
    "    assert img_files, f'No images found'\n",
    "except Exception as e:\n",
    "    raise Exception(f'Error loading data from {path}: {e}\\nSee')\n"
   ]
  },
  {
   "cell_type": "code",
   "execution_count": 10,
   "metadata": {},
   "outputs": [
    {
     "data": {
      "text/plain": [
       "[]"
      ]
     },
     "execution_count": 10,
     "metadata": {},
     "output_type": "execute_result"
    }
   ],
   "source": [
    "img_files"
   ]
  },
  {
   "cell_type": "code",
   "execution_count": 8,
   "metadata": {},
   "outputs": [],
   "source": [
    "x = ['../DATA/clockNumData_Yolo7/train/1_CDT.jpg']"
   ]
  },
  {
   "cell_type": "code",
   "execution_count": 9,
   "metadata": {},
   "outputs": [
    {
     "ename": "AttributeError",
     "evalue": "'list' object has no attribute 'replace'",
     "output_type": "error",
     "traceback": [
      "\u001b[0;31m---------------------------------------------------------------------------\u001b[0m",
      "\u001b[0;31mAttributeError\u001b[0m                            Traceback (most recent call last)",
      "Cell \u001b[0;32mIn[9], line 1\u001b[0m\n\u001b[0;32m----> 1\u001b[0m x\u001b[39m.\u001b[39;49mreplace(\u001b[39m'\u001b[39m\u001b[39m/\u001b[39m\u001b[39m'\u001b[39m, os\u001b[39m.\u001b[39msep)\n",
      "\u001b[0;31mAttributeError\u001b[0m: 'list' object has no attribute 'replace'"
     ]
    }
   ],
   "source": [
    "x.replace('/', os.sep)"
   ]
  },
  {
   "cell_type": "code",
   "execution_count": 10,
   "metadata": {},
   "outputs": [],
   "source": [
    "def img2label_paths(img_paths):\n",
    "    # Define label paths as a function of image paths\n",
    "    sa, sb = os.sep + 'images' + os.sep, os.sep + 'labels' + os.sep  # /images/, /labels/ substrings\n",
    "    return ['txt'.join(x.replace(sa, sb, 1).rsplit(x.split('.')[-1], 1)) for x in img_paths]"
   ]
  },
  {
   "cell_type": "code",
   "execution_count": 11,
   "metadata": {},
   "outputs": [
    {
     "data": {
      "text/plain": [
       "['../DATA/clockNumData_Yolo7/train/1_CDT.txt']"
      ]
     },
     "execution_count": 11,
     "metadata": {},
     "output_type": "execute_result"
    }
   ],
   "source": [
    "img2label_paths(x)"
   ]
  },
  {
   "cell_type": "code",
   "execution_count": null,
   "metadata": {},
   "outputs": [],
   "source": []
  }
 ],
 "metadata": {
  "kernelspec": {
   "display_name": "yolo7",
   "language": "python",
   "name": "python3"
  },
  "language_info": {
   "codemirror_mode": {
    "name": "ipython",
    "version": 3
   },
   "file_extension": ".py",
   "mimetype": "text/x-python",
   "name": "python",
   "nbconvert_exporter": "python",
   "pygments_lexer": "ipython3",
   "version": "3.9.16"
  },
  "orig_nbformat": 4,
  "vscode": {
   "interpreter": {
    "hash": "3fba19d03723b14a803c60d3e387e7795b59f42ef5371e94527adda6f4fb111e"
   }
  }
 },
 "nbformat": 4,
 "nbformat_minor": 2
}
