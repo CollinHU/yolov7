{
 "cells": [
  {
   "cell_type": "code",
   "execution_count": 2,
   "metadata": {},
   "outputs": [],
   "source": [
    "import torch"
   ]
  },
  {
   "cell_type": "code",
   "execution_count": 3,
   "metadata": {},
   "outputs": [],
   "source": [
    "import os\n",
    "from pathlib import Path\n",
    "import glob\n",
    "img_formats = ['bmp', 'jpg', 'jpeg', 'png', 'tif', 'tiff', 'dng', 'webp', 'mpo'] "
   ]
  },
  {
   "cell_type": "code",
   "execution_count": 31,
   "metadata": {},
   "outputs": [],
   "source": [
    "path = \"../DATA/clockNumData_Yolo7/train1.txt\""
   ]
  },
  {
   "cell_type": "code",
   "execution_count": 34,
   "metadata": {},
   "outputs": [],
   "source": [
    "try:\n",
    "    f = []  # image files\n",
    "    for p in path if isinstance(path, list) else [path]:\n",
    "        p = Path(p)  # os-agnostic\n",
    "        if p.is_dir():  # dir\n",
    "            f += glob.glob(str(p / '**' / '*.*'), recursive=True)\n",
    "            # f = list(p.rglob('**/*.*'))  # pathlib\n",
    "        elif p.is_file():  # file\n",
    "            with open(p, 'r') as t:\n",
    "                t = t.read().strip().splitlines()\n",
    "                parent = str(p.parent) + os.sep\n",
    "                f += [x.replace('./', parent) if x.startswith('./') else x for x in t]  # local to global path\n",
    "                # f += [p.parent / x.lstrip(os.sep) for x in t]  # local to global path (pathlib)\n",
    "        else:\n",
    "            raise Exception(f'{p} does not exist')\n",
    "    img_files = sorted([x.replace('/', os.sep) for x in f if x.split('.')[-1].lower() in img_formats])\n",
    "    # self.img_files = sorted([x for x in f if x.suffix[1:].lower() in img_formats])  # pathlib\n",
    "    assert img_files, f'No images found'\n",
    "except Exception as e:\n",
    "    raise Exception(f'Error loading data from {path}: {e}\\nSee')\n"
   ]
  },
  {
   "cell_type": "code",
   "execution_count": 35,
   "metadata": {},
   "outputs": [
    {
     "data": {
      "text/plain": [
       "['../DATA/clockNumData_Yolo7/train/images/1_CDT.jpg',\n",
       " '../DATA/clockNumData_Yolo7/train/images/2_CDT.jpg']"
      ]
     },
     "execution_count": 35,
     "metadata": {},
     "output_type": "execute_result"
    }
   ],
   "source": [
    "f"
   ]
  },
  {
   "cell_type": "code",
   "execution_count": 36,
   "metadata": {},
   "outputs": [],
   "source": [
    "def img2label_paths(img_paths):\n",
    "    # Define label paths as a function of image paths\n",
    "    sa, sb = os.sep + 'images' + os.sep, os.sep + 'labels' + os.sep  # /images/, /labels/ substrings\n",
    "    return ['txt'.join(x.replace(sa, sb, 1).rsplit(x.split('.')[-1], 1)) for x in img_paths]"
   ]
  },
  {
   "cell_type": "code",
   "execution_count": 37,
   "metadata": {},
   "outputs": [],
   "source": [
    "label_files = img2label_paths(f)"
   ]
  },
  {
   "cell_type": "code",
   "execution_count": 38,
   "metadata": {},
   "outputs": [
    {
     "data": {
      "text/plain": [
       "['../DATA/clockNumData_Yolo7/train/labels/1_CDT.txt',\n",
       " '../DATA/clockNumData_Yolo7/train/labels/2_CDT.txt']"
      ]
     },
     "execution_count": 38,
     "metadata": {},
     "output_type": "execute_result"
    }
   ],
   "source": [
    "label_files"
   ]
  },
  {
   "cell_type": "code",
   "execution_count": 23,
   "metadata": {},
   "outputs": [
    {
     "data": {
      "text/plain": [
       "['./train/labels/1_CDT.txt']"
      ]
     },
     "execution_count": 23,
     "metadata": {},
     "output_type": "execute_result"
    }
   ],
   "source": [
    "label_files"
   ]
  },
  {
   "cell_type": "code",
   "execution_count": 25,
   "metadata": {},
   "outputs": [],
   "source": [
    "t = ['./train/images/1_CDT.jpg']\n",
    "f = []\n",
    "parent = str(p.parent) + os.sep\n",
    "f += [x.replace('./', parent) if x.startswith('./') else x for x in t]"
   ]
  },
  {
   "cell_type": "code",
   "execution_count": 26,
   "metadata": {},
   "outputs": [
    {
     "data": {
      "text/plain": [
       "['../DATA/clockNumData_Yolo7/train/images/1_CDT.jpg']"
      ]
     },
     "execution_count": 26,
     "metadata": {},
     "output_type": "execute_result"
    }
   ],
   "source": [
    "f"
   ]
  },
  {
   "cell_type": "code",
   "execution_count": null,
   "metadata": {},
   "outputs": [],
   "source": []
  }
 ],
 "metadata": {
  "kernelspec": {
   "display_name": "yolo7",
   "language": "python",
   "name": "python3"
  },
  "language_info": {
   "codemirror_mode": {
    "name": "ipython",
    "version": 3
   },
   "file_extension": ".py",
   "mimetype": "text/x-python",
   "name": "python",
   "nbconvert_exporter": "python",
   "pygments_lexer": "ipython3",
   "version": "3.9.16"
  },
  "orig_nbformat": 4,
  "vscode": {
   "interpreter": {
    "hash": "3fba19d03723b14a803c60d3e387e7795b59f42ef5371e94527adda6f4fb111e"
   }
  }
 },
 "nbformat": 4,
 "nbformat_minor": 2
}
