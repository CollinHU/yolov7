{
 "cells": [
  {
   "cell_type": "code",
   "execution_count": 6,
   "metadata": {},
   "outputs": [],
   "source": [
    "def convert(oneObject):\n",
    "    oneObject = oneObject.split(',')\n",
    "    oneObject = [int(ele) for ele in oneObject]\n",
    "    clas = int(oneObject[-1])\n",
    "    x_cen = round(((oneObject[0] + oneObject[2]) / 2) / 600, 6)\n",
    "    y_cen = round(((oneObject[1] + oneObject[3]) / 2) / 600, 6)\n",
    "    w     = round((oneObject[2] - oneObject[0]) / 600, 6)\n",
    "    h     = round((oneObject[3] - oneObject[1]) / 600, 6)\n",
    "    return clas, x_cen, y_cen, w, h\n"
   ]
  },
  {
   "cell_type": "code",
   "execution_count": 9,
   "metadata": {},
   "outputs": [],
   "source": [
    "phase = 'test'\n",
    "parent = '../DATA/clockNumData_Yolo7'\n",
    "\n",
    "path = '../' + parent + '/' + phase + '2.txt'\n",
    "with open(path) as f:\n",
    "    data = f.read()\n",
    "f.close()\n",
    "\n",
    "lines = data.splitlines()\n",
    "\n",
    "for line in lines:\n",
    "    line = line.strip()\n",
    "    oneObjects = line.split(' ')\n",
    "    imgFile = oneObjects[0].replace(f'{parent}/{phase}/', f'./{phase}/images/')\n",
    "    labelFile = imgFile.split('/')[-1].split('.')[0]\n",
    "    with open(f'../{parent}/{phase}.txt', 'a') as f:\n",
    "            f.write(imgFile + '\\n')\n",
    "    for oneObj in oneObjects[1:]:\n",
    "        clas, x_min, y_min, x_max, y_max = convert(oneObj)\n",
    "        with open(f'../{parent}/{phase}/labels/{labelFile}.txt', 'a') as f:\n",
    "            f.write(\"%s %s %s %s %s\\n\" % (clas, x_min, y_min, x_max, y_max))"
   ]
  },
  {
   "cell_type": "code",
   "execution_count": 50,
   "metadata": {},
   "outputs": [
    {
     "data": {
      "text/plain": [
       "'2_CDT'"
      ]
     },
     "execution_count": 50,
     "metadata": {},
     "output_type": "execute_result"
    }
   ],
   "source": [
    "labelFile"
   ]
  },
  {
   "cell_type": "code",
   "execution_count": null,
   "metadata": {},
   "outputs": [],
   "source": []
  }
 ],
 "metadata": {
  "kernelspec": {
   "display_name": "yolo7",
   "language": "python",
   "name": "python3"
  },
  "language_info": {
   "codemirror_mode": {
    "name": "ipython",
    "version": 3
   },
   "file_extension": ".py",
   "mimetype": "text/x-python",
   "name": "python",
   "nbconvert_exporter": "python",
   "pygments_lexer": "ipython3",
   "version": "3.9.16 (main, Jan 11 2023, 16:05:54) \n[GCC 11.2.0]"
  },
  "orig_nbformat": 4,
  "vscode": {
   "interpreter": {
    "hash": "3fba19d03723b14a803c60d3e387e7795b59f42ef5371e94527adda6f4fb111e"
   }
  }
 },
 "nbformat": 4,
 "nbformat_minor": 2
}
