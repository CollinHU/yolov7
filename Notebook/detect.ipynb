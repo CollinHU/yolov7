{
 "cells": [
  {
   "cell_type": "code",
   "execution_count": 3,
   "metadata": {},
   "outputs": [
    {
     "name": "stderr",
     "output_type": "stream",
     "text": [
      "/home/collin/miniconda3/envs/yolo7/lib/python3.9/site-packages/tqdm/auto.py:22: TqdmWarning: IProgress not found. Please update jupyter and ipywidgets. See https://ipywidgets.readthedocs.io/en/stable/user_install.html\n",
      "  from .autonotebook import tqdm as notebook_tqdm\n"
     ]
    }
   ],
   "source": [
    "import argparse\n",
    "import time\n",
    "from pathlib import Path\n",
    "import numpy as np\n",
    "\n",
    "import cv2\n",
    "import torch\n",
    "import torch.backends.cudnn as cudnn\n",
    "from numpy import random\n",
    "import sys\n",
    "sys.path.insert(0, '../')#sys.path hold search folder\n",
    "from models.experimental import attempt_load\n",
    "from utils.datasets import LoadStreams, LoadImages\n",
    "from utils.general import check_img_size, check_requirements, check_imshow, non_max_suppression, apply_classifier, \\\n",
    "    scale_coords, xyxy2xywh, strip_optimizer, set_logging, increment_path\n",
    "from utils.plots import plot_one_box\n",
    "from utils.torch_utils import select_device, load_classifier, time_synchronized, TracedModel"
   ]
  },
  {
   "cell_type": "code",
   "execution_count": 4,
   "metadata": {},
   "outputs": [],
   "source": [
    "import matplotlib.pyplot as plt\n",
    "%matplotlib inline"
   ]
  },
  {
   "cell_type": "code",
   "execution_count": 5,
   "metadata": {},
   "outputs": [],
   "source": [
    "def process_yolo_result(yolo_outputs):\n",
    "    predNum = []\n",
    "    rects = []\n",
    "    for row in yolo_outputs:\n",
    "        predNum.append(row[5])\n",
    "        rects.append([row[0], row[1], row[2] - row[0], row[3] - row[1]])\n",
    "    return rects, predNum"
   ]
  },
  {
   "cell_type": "code",
   "execution_count": 6,
   "metadata": {},
   "outputs": [],
   "source": [
    "def merge_digits(rects, prediction):\n",
    "    # Just initialize bounding rects and set all bools to false\n",
    "    rects = np.array(rects)\n",
    "    prediction = np.array(prediction)\n",
    "    \n",
    "    rectsUsed = []\n",
    "    digitXs = []\n",
    "    for cnt in rects:\n",
    "        rectsUsed.append(False)\n",
    "        digitXs.append(cnt[0] + cnt[2] )\n",
    "    \n",
    "    sortedIdx = np.argsort(digitXs)\n",
    "    # Sort bounding rects by x coordinate\n",
    "    \n",
    "    rects = rects[sortedIdx]\n",
    "    prediction = prediction[sortedIdx]\n",
    "    # Array of accepted rects\n",
    "    acceptedRects = []\n",
    "    mergedPrediction = []\n",
    "    \n",
    "    # Iterate all initial bounding rects\n",
    "    for supIdx, supVal in enumerate(rects):\n",
    "        if rectsUsed[supIdx]:\n",
    "            continue\n",
    "        mergedDigit = prediction[supIdx]\n",
    "        # Initialize current rect\n",
    "        currxMin = supVal[0]\n",
    "        currxMax = supVal[0] + supVal[2] #/ 2\n",
    "        curryMin = supVal[1]\n",
    "        curryMax = supVal[1] + supVal[3]\n",
    "\n",
    "        # This bounding rect is used\n",
    "        rectsUsed[supIdx] = True\n",
    "\n",
    "        digitW = supVal[2]\n",
    "        # Iterate all initial bounding rects\n",
    "        # starting from the next\n",
    "        for subIdx, subVal in enumerate(rects[(supIdx+1):], start = (supIdx+1)):\n",
    "            if rectsUsed[subIdx]:\n",
    "                continue\n",
    "            # Initialize merge candidate\n",
    "            candxMin = subVal[0]\n",
    "            candxMax = subVal[0] + subVal[2]#/2\n",
    "            candyMin = subVal[1]\n",
    "            candyMax = subVal[1] + subVal[3]\n",
    "\n",
    "            # Check if x distance between current rect\n",
    "            # and merge candidate is small enough and if merged result is \n",
    "            #larger than 25, it should not be merged\n",
    "            #if digit is 11, they can be seperated farer than others\n",
    "            dThr = max(supVal[3], subVal[3] , supVal[2], subVal[2])\n",
    "            xThr = dThr / 2\n",
    "            yThr = dThr / 3\n",
    "            if prediction[supIdx] == 1:\n",
    "                xThr =  dThr\n",
    "            \n",
    "            #the smaller digit should be within the height of the large one, if these two can be \n",
    "            #merged\n",
    "            #print(np.abs(candxMin - currxMax), xThr)\n",
    "            #print(np.abs(candyMax-curryMax), yThr)\n",
    "            if (np.abs(candxMin - currxMax) <=  xThr) and \\\n",
    "                ((np.abs(candyMax-curryMax) <= yThr) or (np.abs(candyMin-curryMin) <= yThr)) and \\\n",
    "                prediction[supIdx] * 10 + prediction[subIdx] < 25:\n",
    "                \n",
    "                overlapMin = max(curryMin, candyMin)\n",
    "                overlapMax = min(curryMax, candyMax)\n",
    "                if (overlapMax - overlapMin) / min(subVal[3], supVal[3]) < 0.85 and candxMin - currxMax >=  5:\n",
    "                    continue\n",
    "                if (overlapMax - overlapMin) / min(subVal[3], supVal[3]) < 0.7:\n",
    "                    continue\n",
    "                    \n",
    "                mergedDigit = prediction[supIdx] * 10  + prediction[subIdx]\n",
    "                currxMin = min(candxMin, currxMin)\n",
    "                currxMax = max(candxMax, currxMax)\n",
    "                curryMin = min(curryMin, candyMin)\n",
    "                curryMax = max(curryMax, candyMax)\n",
    "\n",
    "                # Merge candidate (bounding rect) is used\n",
    "                digitW = subVal[0] + subVal[2] - currxMin\n",
    "                rectsUsed[subIdx] = True\n",
    "                break\n",
    "            # No more merge candidates possible, accept current rect\n",
    "            #if currxMax-currxMin <= dThr/4:\n",
    "            #    continue\n",
    "\n",
    "        mergedPrediction.append(mergedDigit)\n",
    "        acceptedRects.append([currxMin, curryMin, currxMax - currxMin, curryMax - curryMin])\n",
    "    return acceptedRects, mergedPrediction"
   ]
  },
  {
   "cell_type": "code",
   "execution_count": 7,
   "metadata": {},
   "outputs": [],
   "source": [
    "def detect(opt, save_img=False):\n",
    "    source, weights, view_img, save_txt, imgsz = opt['source'], opt['weights'], opt['view_img'], opt['save_txt'], opt['img_size']\n",
    "    save_img = False #not opt['nosave'] and not source.endswith('.txt')  # save inference images\n",
    "\n",
    "    # Directories\n",
    "    save_dir = Path(increment_path(Path(opt['project']) / opt['name'], exist_ok=opt['exist_ok']))  # increment run\n",
    "    (save_dir / 'labels' if save_txt else save_dir).mkdir(parents=True, exist_ok=True)  # make dir\n",
    "\n",
    "    # Initialize\n",
    "    set_logging()\n",
    "    device = select_device(opt['device'])\n",
    "    half = device.type != 'cpu'  # half precision only supported on CUDA\n",
    "    # Load model\n",
    "    model = attempt_load(weights, map_location=device)  # load FP32 model\n",
    "    stride = int(model.stride.max())  # model stride\n",
    "    imgsz = check_img_size(imgsz, s=stride)  # check img_size\n",
    "\n",
    "    if half:\n",
    "        model.half()  # to FP16\n",
    "\n",
    "    # Set Dataloader\n",
    "    vid_path, vid_writer = None, None\n",
    "    \n",
    "    dataset = LoadImages(source, img_size=imgsz, stride=stride)\n",
    "\n",
    "    # Get names and colors\n",
    "    names = model.module.names if hasattr(model, 'module') else model.names\n",
    "    colors = [[random.randint(0, 255) for _ in range(3)] for _ in names]\n",
    "\n",
    "    # Run inference\n",
    "    if device.type != 'cpu':\n",
    "        model(torch.zeros(1, 3, imgsz, imgsz).to(device).type_as(next(model.parameters())))  # run once\n",
    "    old_img_w = old_img_h = imgsz\n",
    "    old_img_b = 1\n",
    "\n",
    "    t0 = time.time()\n",
    "    for path, img, im0s, vid_cap in dataset:\n",
    "        img = torch.from_numpy(img).to(device)\n",
    "        img = img.half() if half else img.float()  # uint8 to fp16/32\n",
    "        img /= 255.0  # 0 - 255 to 0.0 - 1.0\n",
    "        if img.ndimension() == 3:\n",
    "            img = img.unsqueeze(0)\n",
    "\n",
    "        # Warmup\n",
    "        if device.type != 'cpu' and (old_img_b != img.shape[0] or old_img_h != img.shape[2] or old_img_w != img.shape[3]):\n",
    "            old_img_b = img.shape[0]\n",
    "            old_img_h = img.shape[2]\n",
    "            old_img_w = img.shape[3]\n",
    "            for i in range(3):\n",
    "                model(img, augment=opt['augment'])[0]\n",
    "        \n",
    "        # Inference\n",
    "        t1 = time_synchronized()\n",
    "        with torch.no_grad():   # Calculating gradients would cause a GPU memory leak\n",
    "            pred = model(img, augment=opt['augment'])[0]\n",
    "        t2 = time_synchronized()\n",
    "\n",
    "        # Apply NMS\n",
    "        pred = non_max_suppression(pred, opt['conf_thres'], opt['iou_thres'], classes=opt['classes'], agnostic=opt['agnostic_nms'])\n",
    "        t3 = time_synchronized()\n",
    "\n",
    "        # Process detections\n",
    "        for i, det in enumerate(pred):  # detections per image\n",
    "            p, s, im0, frame = path, '', im0s, getattr(dataset, 'frame', 0)\n",
    "\n",
    "            p = Path(p)  # to Path\n",
    "            save_path = str(save_dir / p.name)  # img.jpg\n",
    "            txt_path = str(save_dir / 'labels' / p.stem) + ('' if dataset.mode == 'image' else f'_{frame}')  # img.txt\n",
    "            gn = torch.tensor(im0.shape)[[1, 0, 1, 0]]  # normalization gain whwh\n",
    "            if len(det):\n",
    "                # Rescale boxes from img_size to im0 size\n",
    "                det[:, :4] = scale_coords(img.shape[2:], det[:, :4], im0.shape).round()\n",
    "\n",
    "                # Print results\n",
    "                for c in det[:, -1].unique():\n",
    "                    n = (det[:, -1] == c).sum()  # detections per class\n",
    "                    s += f\"{n} {names[int(c)]}{'s' * (n > 1)}, \"  # add to string\n",
    "\n",
    "                # Write results\n",
    "                for *xyxy, conf, cls in reversed(det):\n",
    "                    if save_txt:  # Write to file\n",
    "                        xywh = (xyxy2xywh(torch.tensor(xyxy).view(1, 4)) / gn).view(-1).tolist()  # normalized xywh\n",
    "                        line = (cls, *xywh, conf) if opt['save_conf'] else (cls, *xywh)  # label format\n",
    "                        with open(txt_path + '.txt', 'a') as f:\n",
    "                            f.write(('%g ' * len(line)).rstrip() % line + '\\n')\n",
    "\n",
    "                    if save_img or view_img:  # Add bbox to image\n",
    "                        label = f'{names[int(cls)]} {conf:.2f}'\n",
    "                        plot_one_box(xyxy, im0, label=label, color=colors[int(cls)], line_thickness=1)\n",
    "\n",
    "            # Print time (inference + NMS)\n",
    "            #print(f'{s}Done. ({(1E3 * (t2 - t1)):.1f}ms) Inference, ({(1E3 * (t3 - t2)):.1f}ms) NMS')\n",
    "\n",
    "            # Stream results\n",
    "            if view_img:\n",
    "                cv2.imshow(str(p), im0)\n",
    "                cv2.waitKey(1)  # 1 millisecond\n",
    "\n",
    "            # Save results (image with detections)\n",
    "            if save_img:\n",
    "                if dataset.mode == 'image':\n",
    "                    cv2.imwrite(save_path, im0)\n",
    "                    print(f\" The image with the result is saved in: {save_path}\")\n",
    "\n",
    "    if save_txt or save_img:\n",
    "        s = f\"\\n{len(list(save_dir.glob('labels/*.txt')))} labels saved to {save_dir / 'labels'}\" if save_txt else ''\n",
    "        #print(f\"Results saved to {save_dir}{s}\")\n",
    "\n",
    "    #print(f'Done. ({time.time() - t0:.3f}s)')\n",
    "    return det.cpu()\n"
   ]
  },
  {
   "cell_type": "code",
   "execution_count": 8,
   "metadata": {},
   "outputs": [],
   "source": [
    "\n",
    "def box_area(box):\n",
    "    return (box[3] - box[1]) * (box[2] - box[0])\n",
    "\n",
    "def overlap_box(box1, box2):\n",
    "    x1 = max(box1[0], box2[0])\n",
    "    y1 = max(box1[1], box2[1])\n",
    "\n",
    "    x2 = min(box1[2], box2[2])\n",
    "    y2 = min(box1[3], box2[3])\n",
    "    if x2 > x1 and y2 > y1:\n",
    "        bboxesConf = [box1[4], box2[4]]\n",
    "        bboxesNum  = [box1[5], box2[5]]\n",
    "        idx = np.argmax(bboxesConf)\n",
    "        return np.array([x1, y1, x2, y2, bboxesConf[idx], bboxesNum[idx]])\n",
    "    else:\n",
    "        return [0, 0, 0, 0, -1, -1]\n",
    "\n",
    "def outJoin_box(box1, box2):\n",
    "    x1 = min(box1[0], box2[0])\n",
    "    y1 = min(box1[1], box2[1])\n",
    "\n",
    "    x2 = max(box1[2], box2[2])\n",
    "    y2 = max(box1[3], box2[3])\n",
    "    return np.array([x1, y1, x2, y2, box1[4], box1[5]])\n"
   ]
  },
  {
   "cell_type": "code",
   "execution_count": 185,
   "metadata": {},
   "outputs": [],
   "source": [
    "def merge_bboxes(bboxes):\n",
    "    bboxesSize = len(bboxes) + 1\n",
    "    if bboxesSize <= 1:\n",
    "        return bboxes\n",
    "    while len(bboxes) < bboxesSize:\n",
    "        bboxesSize = len(bboxes)\n",
    "        overlapMatrix = np.zeros((bboxesSize, bboxesSize))\n",
    "        for i in range(bboxesSize - 1):\n",
    "            for j in range(i+1, bboxesSize):\n",
    "\n",
    "                overlapBox = overlap_box(bboxes[i], bboxes[j])\n",
    "                overlapA = box_area(overlapBox)\n",
    "                if overlapA < 0:\n",
    "                    continue\n",
    "                bA1 = box_area(bboxes[i])\n",
    "                bA2 = box_area(bboxes[j])\n",
    "                overlapP = max(overlapA / bA1, overlapA / bA2) \n",
    "                if  overlapP >= 0.8:\n",
    "                    overlapMatrix[i,j] = overlapP\n",
    "                if bboxes[i][5] != 1:\n",
    "                    overlapMatrix[i,j] = overlapP\n",
    "\n",
    "        idx = np.argmax(overlapMatrix)\n",
    "        rowI = idx // bboxesSize\n",
    "        colI = idx % bboxesSize\n",
    "        #print(bboxes)\n",
    "        if np.max(overlapMatrix) > 0.5:\n",
    "            #print(bboxes[rowI][5], bboxes[colI][5])\n",
    "            overlapBox = overlap_box(bboxes[rowI], bboxes[colI])\n",
    "            bboxes.pop(colI)\n",
    "            bboxes.pop(rowI)\n",
    "            bboxes.append(overlapBox)\n",
    "        elif np.max(overlapMatrix) > 0.35:\n",
    "            #print(bboxes[rowI][5], bboxes[colI][5])\n",
    "            overlapBox = outJoin_box(bboxes[rowI], bboxes[colI])\n",
    "            #print(bboxes[rowI][5], bboxes[colI][5])\n",
    "            bboxes.pop(colI)\n",
    "            bboxes.pop(rowI)\n",
    "            bboxes.append(overlapBox)\n",
    "\n",
    "        #print(bboxes[5:9])\n",
    "            \n",
    "    return bboxes"
   ]
  },
  {
   "cell_type": "code",
   "execution_count": 186,
   "metadata": {},
   "outputs": [],
   "source": [
    "def apply_model(img_path, model_path):\n",
    "    opt = {}\n",
    "    opt['weights'] =  model_path#'../runs/train/yolov7-custom/weights/best.pt'\n",
    "    opt['source'] = img_path#'../../DATA/clockNumData_Yolo7/test/images/2_CDT.jpg'  # file/folder, 0 for webcam\n",
    "    opt['img_size'] = 640\n",
    "    opt['conf_thres'] = 0.25\n",
    "    opt['iou_thres'] = 0.45\n",
    "    opt['device'] = 'cpu'#'cuda device, i.e. 0 or 0,1,2,3 or cpu')\n",
    "    opt['view_img'] = None\n",
    "    opt['save_txt'] = None\n",
    "    opt['save_conf'] = None\n",
    "    opt['nosave'] = None\n",
    "    opt['classes'] = None\n",
    "    opt['agnostic_nms'] = None\n",
    "    opt['augment'] = None\n",
    "    opt['update'] = None #, action='store_true', help='update all models')\n",
    "    opt['project'] ='runs/detect'\n",
    "    opt['name'] ='exp'\n",
    "    opt['exist_ok'] = None\n",
    "    opt['no_trace'] = True\n",
    "    #print(opt)\n",
    "    yolo7_output = list(detect(opt))\n",
    "    print(yolo7_output)\n",
    "    #yolo7_output = list(yolo7_output)\n",
    "    yolo7_output = merge_bboxes(yolo7_output)\n",
    "\n",
    "    rects, predNum = process_yolo_result(yolo7_output)\n",
    "    rects, predNum = merge_digits(rects, predNum)\n",
    "    return rects, predNum"
   ]
  },
  {
   "cell_type": "code",
   "execution_count": 189,
   "metadata": {},
   "outputs": [
    {
     "name": "stderr",
     "output_type": "stream",
     "text": [
      "YOLOR 🚀 146ba06 torch 1.13.1+cu117 CPU\n",
      "\n"
     ]
    },
    {
     "name": "stdout",
     "output_type": "stream",
     "text": [
      "Fusing layers... \n"
     ]
    },
    {
     "name": "stderr",
     "output_type": "stream",
     "text": [
      "Model Summary: 314 layers, 36530318 parameters, 6194944 gradients, 103.3 GFLOPS\n"
     ]
    },
    {
     "name": "stdout",
     "output_type": "stream",
     "text": [
      "RepConv.fuse_repvgg_block\n",
      "RepConv.fuse_repvgg_block\n",
      "RepConv.fuse_repvgg_block\n",
      "IDetect.fuse\n",
      "[tensor([9.06000e+02, 6.44000e+02, 9.47000e+02, 7.08000e+02, 9.44268e-01, 2.00000e+00]), tensor([9.46000e+02, 8.45000e+02, 1.00500e+03, 9.37000e+02, 9.36162e-01, 4.00000e+00]), tensor([6.48000e+02, 8.66000e+02, 6.97000e+02, 9.42000e+02, 9.33439e-01, 8.00000e+00]), tensor([9.55000e+02, 7.24000e+02, 1.01400e+03, 8.16000e+02, 9.28999e-01, 3.00000e+00]), tensor([763.00000, 563.00000, 792.00000, 631.00000,   0.91310,   1.00000]), tensor([7.92000e+02, 9.84000e+02, 8.50000e+02, 1.07600e+03, 9.11941e-01, 6.00000e+00]), tensor([613.00000, 754.00000, 674.00000, 848.00000,   0.91144,   9.00000]), tensor([7.03000e+02, 9.43000e+02, 7.55000e+02, 1.02700e+03, 9.09741e-01, 7.00000e+00]), tensor([706.00000, 636.00000, 738.00000, 712.00000,   0.89798,   1.00000]), tensor([794.00000, 570.00000, 837.00000, 629.00000,   0.89462,   2.00000]), tensor([867.00000, 588.00000, 891.00000, 653.00000,   0.89238,   1.00000]), tensor([674.00000, 631.00000, 711.00000, 712.00000,   0.88296,   1.00000]), tensor([637.00000, 692.00000, 667.00000, 762.00000,   0.87237,   1.00000]), tensor([6.68000e+02, 7.17000e+02, 6.99000e+02, 7.68000e+02, 7.50501e-01, 0.00000e+00]), tensor([8.97000e+02, 9.71000e+02, 9.38000e+02, 1.03400e+03, 6.44018e-01, 5.00000e+00]), tensor([8.92000e+02, 9.36000e+02, 9.26000e+02, 9.99000e+02, 3.15290e-01, 1.00000e+00]), tensor([8.90000e+02, 9.37000e+02, 9.29000e+02, 1.00000e+03, 2.52164e-01, 4.00000e+00])]\n"
     ]
    }
   ],
   "source": [
    "img_path = '../../DATA/appTest/test_12.jpg'\n",
    "model_path = '../runs/train/yolov7-custom/weights/best.pt'\n",
    "rects, predNum = apply_model(img_path, model_path)\n",
    "image= cv2.imread(img_path)"
   ]
  },
  {
   "cell_type": "code",
   "execution_count": 184,
   "metadata": {},
   "outputs": [
    {
     "name": "stdout",
     "output_type": "stream",
     "text": [
      "0.9702970297029703\n",
      "0.6131282051282051\n"
     ]
    }
   ],
   "source": [
    "b1 = [9.76000e+02, 1.22500e+03, 1.03700e+03, 1.32600e+03, 3.42488e-01, 9.00000e+00]\n",
    "b2 = [9.68000e+02, 1.19300e+03, 1.04300e+03, 1.32300e+03, 2.61682e-01, 8.00000e+00]\n",
    "overlap_A = box_area(overlap_box(b1, b2))\n",
    "A1 = box_area(b1)\n",
    "A2 = box_area(b2)\n",
    "print(overlap_A /A1)\n",
    "print(overlap_A / A2)"
   ]
  },
  {
   "cell_type": "code",
   "execution_count": 137,
   "metadata": {},
   "outputs": [],
   "source": [
    "import matplotlib.pyplot as plt\n",
    "%matplotlib inline"
   ]
  },
  {
   "cell_type": "code",
   "execution_count": 190,
   "metadata": {},
   "outputs": [
    {
     "data": {
      "image/png": "[encoded data removed]",
      "text/plain": [
       "<Figure size 800x800 with 1 Axes>"
      ]
     },
     "metadata": {},
     "output_type": "display_data"
    }
   ],
   "source": [
    "#image= cv2.imread(img_path)\n",
    "plt.figure(figsize=(8,8))\n",
    "for rect, digitPre in zip(rects, predNum):\n",
    "        x = rect[0] + rect[2] / 2\n",
    "        y = rect[1] + rect[3] / 2\n",
    "        img = cv2.rectangle(image, (int(rect[0]), int(rect[1])), (int(rect[0]) + int(rect[2]),\n",
    "                            int(rect[1]) + int(rect[3])), color= (121, 11, 189),  thickness=2)\n",
    "        point = (int(rect[0]), int(rect[1]))\n",
    "        \n",
    "        plt.annotate(str(int(digitPre)), xy=point, fontsize = 22, color = 'red')\n",
    "plt.imshow(img, cmap=\"gray\")\n",
    "plt.axis('off')\n",
    "plt.show()"
   ]
  },
  {
   "cell_type": "code",
   "execution_count": 14,
   "metadata": {},
   "outputs": [],
   "source": [
    "from plot.appDataPreprocess import processJson, plotImg, rescaleCoordinate\n",
    "import json"
   ]
  },
  {
   "cell_type": "code",
   "execution_count": 162,
   "metadata": {},
   "outputs": [],
   "source": [
    "with open(\"../../DATA/appTest/clock_number.txt\", \"r\") as f:\n",
    "    numberData = f.read()\n",
    "numberData = json.loads(numberData)\n",
    "numberData = json.loads(numberData)"
   ]
  },
  {
   "cell_type": "code",
   "execution_count": 163,
   "metadata": {},
   "outputs": [],
   "source": [
    "numX, numY = processJson(numberData)\n",
    "\n",
    "left_up_corner, width, height, resultX_scaled, resultY_scaled = rescaleCoordinate(numX, numY)\n",
    "resultX_scaled = [x for x in resultX_scaled]\n",
    "resultY_scaled = [y for y in resultY_scaled]\n",
    "#img_path =  folder + '/' + file_path +'.jpg' \n",
    "\n",
    "scaled_width, scaled_height, img = plotImg(resultX_scaled, resultY_scaled, line_width = 12,\n",
    "                                                save_fig = False, \n",
    "                                                imgPath = '../../DATA/appTest/test_11.jpg')"
   ]
  },
  {
   "cell_type": "code",
   "execution_count": 164,
   "metadata": {},
   "outputs": [],
   "source": [
    "max_h = 0\n",
    "for row in resultY_scaled:\n",
    "    tmp = max(row) - min(row)\n",
    "    if tmp > max_h:\n",
    "        max_h = tmp\n",
    "scale = 0.17 / (max_h / 8)"
   ]
  },
  {
   "cell_type": "code",
   "execution_count": 165,
   "metadata": {},
   "outputs": [
    {
     "data": {
      "text/plain": [
       "True"
      ]
     },
     "execution_count": 165,
     "metadata": {},
     "output_type": "execute_result"
    }
   ],
   "source": [
    "# read image\n",
    "old_image_height, old_image_width, channels = img.shape\n",
    "\n",
    "# create new image of desired size and color (blue) for padding\n",
    "new_image_width = int(1600 / scale)\n",
    "new_image_height = int(1600 / scale)\n",
    "color = (255,255,255)\n",
    "result = np.full((new_image_height,new_image_width, channels), color, dtype=np.uint8)\n",
    "\n",
    "# compute center offset\n",
    "x_center = (new_image_width - old_image_width) // 2\n",
    "y_center = (new_image_height - old_image_height) // 2\n",
    "\n",
    "# copy img image into center of result image\n",
    "result[y_center:y_center+old_image_height, \n",
    "       x_center:x_center+old_image_width] = img\n",
    "       \n",
    "# save result\n",
    "cv2.imwrite(\"../../DATA/appTest/test_11.jpg\", result)"
   ]
  },
  {
   "cell_type": "code",
   "execution_count": 131,
   "metadata": {},
   "outputs": [
    {
     "data": {
      "text/plain": [
       "0.17363759087307507"
      ]
     },
     "execution_count": 131,
     "metadata": {},
     "output_type": "execute_result"
    }
   ],
   "source": [
    "max_h/ 8"
   ]
  },
  {
   "cell_type": "code",
   "execution_count": null,
   "metadata": {},
   "outputs": [],
   "source": []
  }
 ],
 "metadata": {
  "kernelspec": {
   "display_name": "yolo7",
   "language": "python",
   "name": "python3"
  },
  "language_info": {
   "codemirror_mode": {
    "name": "ipython",
    "version": 3
   },
   "file_extension": ".py",
   "mimetype": "text/x-python",
   "name": "python",
   "nbconvert_exporter": "python",
   "pygments_lexer": "ipython3",
   "version": "3.9.16"
  },
  "orig_nbformat": 4,
  "vscode": {
   "interpreter": {
    "hash": "3fba19d03723b14a803c60d3e387e7795b59f42ef5371e94527adda6f4fb111e"
   }
  }
 },
 "nbformat": 4,
 "nbformat_minor": 2
}
